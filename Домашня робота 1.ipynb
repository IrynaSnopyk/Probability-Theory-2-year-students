{
 "cells": [
  {
   "cell_type": "markdown",
   "metadata": {
    "id": "HTS51QYPBwpd"
   },
   "source": [
    "# Домашня робота №1"
   ]
  },
  {
   "cell_type": "markdown",
   "metadata": {
    "id": "ec8urSI9Bwph"
   },
   "source": [
    "## 1 Перестановки"
   ]
  },
  {
   "cell_type": "code",
   "execution_count": 1,
   "metadata": {
    "id": "KC3oeqO6Bwpu"
   },
   "outputs": [],
   "source": [
    "from itertools import permutations"
   ]
  },
  {
   "cell_type": "markdown",
   "metadata": {
    "id": "oeOZYCtwBwpv"
   },
   "source": [
    "### 1.1 Задача\n",
    "Виведіть всі можливі перестановки без нерухомих точок та порахуйте їх кількість від таких множин:\n",
    "- {1, 2, 3}\n",
    "- {1, 2, 3, 4}\n",
    "- {1, 3, 5, 7}\n",
    "- {1, 2, 2, 1}\n",
    "\n",
    "_Перестановка без нерухомих точок_ - це така перестановка, в якій позиція кожного елементу не збігається з його позицією в початковій множині.\n",
    "**Приклад.** Для множини {1, 2, 3, 4, 5}:\n",
    "- {4, 1, 5, 2, 3} - перестановка без нерухомих точок\n",
    "- {4, **2**, 1, 3, **5**} - перестановка з нерухомими точками"
   ]
  },
  {
   "cell_type": "code",
   "execution_count": 2,
   "metadata": {
    "id": "_UcMNeZlBwpw"
   },
   "outputs": [
    {
     "name": "stdout",
     "output_type": "stream",
     "text": [
      "Set {1, 2, 3}:\n",
      "  Permutations: [(2, 3, 1), (3, 1, 2)]\n",
      "  Number of permutations: 2\n",
      "\n",
      "Set {1, 2, 3, 4}:\n",
      "  Permutations: [(2, 1, 4, 3), (2, 3, 4, 1), (2, 4, 1, 3), (3, 1, 4, 2), (3, 4, 1, 2), (3, 4, 2, 1), (4, 1, 2, 3), (4, 3, 1, 2), (4, 3, 2, 1)]\n",
      "  Number of permutations: 9\n",
      "\n",
      "Set {1, 3, 5, 7}:\n",
      "  Permutations: [(3, 1, 7, 5), (3, 5, 7, 1), (3, 7, 1, 5), (5, 1, 7, 3), (5, 7, 1, 3), (5, 7, 3, 1), (7, 1, 3, 5), (7, 5, 1, 3), (7, 5, 3, 1)]\n",
      "  Number of permutations: 9\n",
      "\n",
      "Set {1, 2}:\n",
      "  Permutations: [(2, 1)]\n",
      "  Number of permutations: 1\n",
      "\n"
     ]
    }
   ],
   "source": [
    "def permute_without_fixed(iterable):\n",
    "    \n",
    "    fixed = list(iterable)\n",
    "    res = permutations(iterable)  # Get all permutations\n",
    "    \n",
    "    def is_fixed(x):  # Add checking of fixed points to permute function\n",
    "        for i in range(len(fixed)):\n",
    "            if fixed[i] == x[i]:\n",
    "                return True\n",
    "        return False\n",
    "            \n",
    "    for element in res:  # Yield only without fixed points\n",
    "        if not is_fixed(element):\n",
    "            yield element\n",
    "    \n",
    "\n",
    "to_permute = [{1, 2, 3}, {1, 2, 3, 4}, {1, 3, 5, 7}, {1, 2, 2, 1}]\n",
    "for el in to_permute:\n",
    "    t = list(permute_without_fixed(el))\n",
    "    print(\"Set {}:\\n  Permutations: {}\\n  Number of permutations: {}\\n\".format(el, t, len(t)))\n",
    "\n"
   ]
  },
  {
   "cell_type": "markdown",
   "metadata": {
    "id": "Hf0iVY5WBwpw"
   },
   "source": [
    "### 1.2 Задача\n",
    "Виведіть всі можливі перестановки, в яких перші $4$ елементи зростають, а наступні спадають, та порахуйте їх кількість від таких множин:\n",
    "- {1, 2, 3, 4, 5, 6, 7, 8}\n",
    "- {1, 2, 3, 4, 5, 6, 7, 8, 9, 10}\n",
    "\n",
    "**Зауваження.** Нехай перестановка\n",
    "$\\pi = \\left( \\sigma_1, \\sigma_2, \\sigma_3, \\sigma_4, \\sigma_5, \\sigma_6, \\sigma_7, \\sigma_8 \\right)$.\n",
    "Тоді має виконуватися така умова:\n",
    "$$\n",
    "  \\sigma_1 < \\sigma_2 < \\sigma_3 < \\sigma_4 > \\sigma_5 > \\sigma_6 > \\sigma_7 > \\sigma_8.\n",
    "$$"
   ]
  },
  {
   "cell_type": "code",
   "execution_count": 3,
   "metadata": {
    "id": "cos04lsFBwpw"
   },
   "outputs": [
    {
     "name": "stdout",
     "output_type": "stream",
     "text": [
      "[(1, 2, 3, 8, 7, 6, 5, 4), (1, 2, 4, 8, 7, 6, 5, 3), (1, 2, 5, 8, 7, 6, 4, 3), (1, 2, 6, 8, 7, 5, 4, 3), (1, 2, 7, 8, 6, 5, 4, 3), (1, 3, 4, 8, 7, 6, 5, 2), (1, 3, 5, 8, 7, 6, 4, 2), (1, 3, 6, 8, 7, 5, 4, 2), (1, 3, 7, 8, 6, 5, 4, 2), (1, 4, 5, 8, 7, 6, 3, 2), (1, 4, 6, 8, 7, 5, 3, 2), (1, 4, 7, 8, 6, 5, 3, 2), (1, 5, 6, 8, 7, 4, 3, 2), (1, 5, 7, 8, 6, 4, 3, 2), (1, 6, 7, 8, 5, 4, 3, 2), (2, 3, 4, 8, 7, 6, 5, 1), (2, 3, 5, 8, 7, 6, 4, 1), (2, 3, 6, 8, 7, 5, 4, 1), (2, 3, 7, 8, 6, 5, 4, 1), (2, 4, 5, 8, 7, 6, 3, 1), (2, 4, 6, 8, 7, 5, 3, 1), (2, 4, 7, 8, 6, 5, 3, 1), (2, 5, 6, 8, 7, 4, 3, 1), (2, 5, 7, 8, 6, 4, 3, 1), (2, 6, 7, 8, 5, 4, 3, 1), (3, 4, 5, 8, 7, 6, 2, 1), (3, 4, 6, 8, 7, 5, 2, 1), (3, 4, 7, 8, 6, 5, 2, 1), (3, 5, 6, 8, 7, 4, 2, 1), (3, 5, 7, 8, 6, 4, 2, 1), (3, 6, 7, 8, 5, 4, 2, 1), (4, 5, 6, 8, 7, 3, 2, 1), (4, 5, 7, 8, 6, 3, 2, 1), (4, 6, 7, 8, 5, 3, 2, 1), (5, 6, 7, 8, 4, 3, 2, 1)]\n",
      "35 \n",
      "\n",
      "[(1, 2, 3, 10, 9, 8, 7, 6, 5, 4), (1, 2, 4, 10, 9, 8, 7, 6, 5, 3), (1, 2, 5, 10, 9, 8, 7, 6, 4, 3), (1, 2, 6, 10, 9, 8, 7, 5, 4, 3), (1, 2, 7, 10, 9, 8, 6, 5, 4, 3), (1, 2, 8, 10, 9, 7, 6, 5, 4, 3), (1, 2, 9, 10, 8, 7, 6, 5, 4, 3), (1, 3, 4, 10, 9, 8, 7, 6, 5, 2), (1, 3, 5, 10, 9, 8, 7, 6, 4, 2), (1, 3, 6, 10, 9, 8, 7, 5, 4, 2), (1, 3, 7, 10, 9, 8, 6, 5, 4, 2), (1, 3, 8, 10, 9, 7, 6, 5, 4, 2), (1, 3, 9, 10, 8, 7, 6, 5, 4, 2), (1, 4, 5, 10, 9, 8, 7, 6, 3, 2), (1, 4, 6, 10, 9, 8, 7, 5, 3, 2), (1, 4, 7, 10, 9, 8, 6, 5, 3, 2), (1, 4, 8, 10, 9, 7, 6, 5, 3, 2), (1, 4, 9, 10, 8, 7, 6, 5, 3, 2), (1, 5, 6, 10, 9, 8, 7, 4, 3, 2), (1, 5, 7, 10, 9, 8, 6, 4, 3, 2), (1, 5, 8, 10, 9, 7, 6, 4, 3, 2), (1, 5, 9, 10, 8, 7, 6, 4, 3, 2), (1, 6, 7, 10, 9, 8, 5, 4, 3, 2), (1, 6, 8, 10, 9, 7, 5, 4, 3, 2), (1, 6, 9, 10, 8, 7, 5, 4, 3, 2), (1, 7, 8, 10, 9, 6, 5, 4, 3, 2), (1, 7, 9, 10, 8, 6, 5, 4, 3, 2), (1, 8, 9, 10, 7, 6, 5, 4, 3, 2), (2, 3, 4, 10, 9, 8, 7, 6, 5, 1), (2, 3, 5, 10, 9, 8, 7, 6, 4, 1), (2, 3, 6, 10, 9, 8, 7, 5, 4, 1), (2, 3, 7, 10, 9, 8, 6, 5, 4, 1), (2, 3, 8, 10, 9, 7, 6, 5, 4, 1), (2, 3, 9, 10, 8, 7, 6, 5, 4, 1), (2, 4, 5, 10, 9, 8, 7, 6, 3, 1), (2, 4, 6, 10, 9, 8, 7, 5, 3, 1), (2, 4, 7, 10, 9, 8, 6, 5, 3, 1), (2, 4, 8, 10, 9, 7, 6, 5, 3, 1), (2, 4, 9, 10, 8, 7, 6, 5, 3, 1), (2, 5, 6, 10, 9, 8, 7, 4, 3, 1), (2, 5, 7, 10, 9, 8, 6, 4, 3, 1), (2, 5, 8, 10, 9, 7, 6, 4, 3, 1), (2, 5, 9, 10, 8, 7, 6, 4, 3, 1), (2, 6, 7, 10, 9, 8, 5, 4, 3, 1), (2, 6, 8, 10, 9, 7, 5, 4, 3, 1), (2, 6, 9, 10, 8, 7, 5, 4, 3, 1), (2, 7, 8, 10, 9, 6, 5, 4, 3, 1), (2, 7, 9, 10, 8, 6, 5, 4, 3, 1), (2, 8, 9, 10, 7, 6, 5, 4, 3, 1), (3, 4, 5, 10, 9, 8, 7, 6, 2, 1), (3, 4, 6, 10, 9, 8, 7, 5, 2, 1), (3, 4, 7, 10, 9, 8, 6, 5, 2, 1), (3, 4, 8, 10, 9, 7, 6, 5, 2, 1), (3, 4, 9, 10, 8, 7, 6, 5, 2, 1), (3, 5, 6, 10, 9, 8, 7, 4, 2, 1), (3, 5, 7, 10, 9, 8, 6, 4, 2, 1), (3, 5, 8, 10, 9, 7, 6, 4, 2, 1), (3, 5, 9, 10, 8, 7, 6, 4, 2, 1), (3, 6, 7, 10, 9, 8, 5, 4, 2, 1), (3, 6, 8, 10, 9, 7, 5, 4, 2, 1), (3, 6, 9, 10, 8, 7, 5, 4, 2, 1), (3, 7, 8, 10, 9, 6, 5, 4, 2, 1), (3, 7, 9, 10, 8, 6, 5, 4, 2, 1), (3, 8, 9, 10, 7, 6, 5, 4, 2, 1), (4, 5, 6, 10, 9, 8, 7, 3, 2, 1), (4, 5, 7, 10, 9, 8, 6, 3, 2, 1), (4, 5, 8, 10, 9, 7, 6, 3, 2, 1), (4, 5, 9, 10, 8, 7, 6, 3, 2, 1), (4, 6, 7, 10, 9, 8, 5, 3, 2, 1), (4, 6, 8, 10, 9, 7, 5, 3, 2, 1), (4, 6, 9, 10, 8, 7, 5, 3, 2, 1), (4, 7, 8, 10, 9, 6, 5, 3, 2, 1), (4, 7, 9, 10, 8, 6, 5, 3, 2, 1), (4, 8, 9, 10, 7, 6, 5, 3, 2, 1), (5, 6, 7, 10, 9, 8, 4, 3, 2, 1), (5, 6, 8, 10, 9, 7, 4, 3, 2, 1), (5, 6, 9, 10, 8, 7, 4, 3, 2, 1), (5, 7, 8, 10, 9, 6, 4, 3, 2, 1), (5, 7, 9, 10, 8, 6, 4, 3, 2, 1), (5, 8, 9, 10, 7, 6, 4, 3, 2, 1), (6, 7, 8, 10, 9, 5, 4, 3, 2, 1), (6, 7, 9, 10, 8, 5, 4, 3, 2, 1), (6, 8, 9, 10, 7, 5, 4, 3, 2, 1), (7, 8, 9, 10, 6, 5, 4, 3, 2, 1)]\n",
      "84 \n",
      "\n"
     ]
    }
   ],
   "source": [
    "A = [[1, 2, 3, 4, 5, 6, 7, 8],\n",
    "[1, 2, 3, 4, 5, 6, 7, 8, 9, 10]]\n",
    "answer1 = []\n",
    "def perm(A):\n",
    "    permute_A = list(permutations(A))\n",
    "    answer = []\n",
    "    for i in permute_A:\n",
    "        check = False\n",
    "        for j in range(3):\n",
    "            if i[j] < i[j+1]:\n",
    "                check = True\n",
    "            else:\n",
    "                check = False\n",
    "                break\n",
    "        if check == True:\n",
    "            for j in range(3, len(A)-1):\n",
    "                    if i[j] > i[j+1]:\n",
    "                        check = True\n",
    "                    else:\n",
    "                        check = False\n",
    "                        break\n",
    "        if(check == True):\n",
    "            answer.append(i)\n",
    "    answer1.append(answer)\n",
    "    return\n",
    "for i in range(len(A)):\n",
    "    perm(A[i])\n",
    "for i in answer1:\n",
    "    print(i)\n",
    "    print(len(i), \"\\n\")"
   ]
  },
  {
   "cell_type": "markdown",
   "metadata": {
    "id": "YOnPnB1PBwpx"
   },
   "source": [
    "## 2 Комбінації без повторень"
   ]
  },
  {
   "cell_type": "code",
   "execution_count": 4,
   "metadata": {
    "id": "eIJaoFnWBwpy"
   },
   "outputs": [],
   "source": [
    "from itertools import combinations"
   ]
  },
  {
   "cell_type": "markdown",
   "metadata": {
    "id": "psYbcIz3Bwpy"
   },
   "source": [
    "### 2.1 Задача\n",
    "Нехай $A$ - множина з $10$ елементів, кожен з яких є цілим числом від $1$ до $20$.\n",
    "Тобто $$A = \\{ a_i \\}_{i = 1}^{10},\\\\ 1 \\leq a_i \\leq 20, \\quad i = 1, \\ldots, 10.$$\n",
    "Скільки елементів може бути в множині, яка складається із попарних сум елементів множини $A$?\n",
    "$$B = \\{ b_k \\, \\colon \\, b_k = a_i + a_j, \\quad a_i, a_j \\in A, \\, 1 \\leq i, j \\leq 10, \\, i \\neq j \\}_{k = 1}^{\\textbf{?}}$$"
   ]
  },
  {
   "cell_type": "code",
   "execution_count": 5,
   "metadata": {
    "id": "DfkXJYWHBwpz"
   },
   "outputs": [
    {
     "name": "stdout",
     "output_type": "stream",
     "text": [
      "Number of (ai, aj) - pairs: 45\n"
     ]
    }
   ],
   "source": [
    "A = range(10)\n",
    "B = set(combinations(A,2))\n",
    "print(\"Number of (ai, aj) - pairs: {}\".format(len(B)))\n"
   ]
  },
  {
   "cell_type": "markdown",
   "metadata": {
    "id": "BoMEwX7qBwpz"
   },
   "source": [
    "## 3 Комбінації з повтореннями"
   ]
  },
  {
   "cell_type": "markdown",
   "metadata": {
    "id": "4O2atbKRBwp0"
   },
   "source": [
    "### 3.1 Задача\n",
    "Скільки існує 6-цифрових наборів таких, що сума перших трьох цифр дорівнює сумі останніх трьох?\n",
    "\n",
    "**Зауваження 1.** В задачі фігурують 6-цифрові набори, а не числа. Тобто перша цифра може дорівнювати $0$.\n",
    "\n",
    "**Зауваження 2.** Задача передбачає використання функції\n",
    "[product](https://docs.python.org/3/library/itertools.html#itertools.product)."
   ]
  },
  {
   "cell_type": "code",
   "execution_count": 6,
   "metadata": {
    "id": "MuJ3y5Z8Bwp0"
   },
   "outputs": [
    {
     "name": "stdout",
     "output_type": "stream",
     "text": [
      "Amount of 6-number sets: 55252\n"
     ]
    }
   ],
   "source": [
    "from itertools import product\n",
    "    \n",
    "A = list(range(10))\n",
    "sets = product(A, repeat=6)\n",
    "counter = 0\n",
    "for element in sets:\n",
    "    if sum(element[:3]) == sum(element[3:]):\n",
    "        counter += 1\n",
    "print(\"Amount of 6-number sets: {}\".format(counter))\n",
    "\n"
   ]
  },
  {
   "cell_type": "markdown",
   "metadata": {
    "id": "rNMrSYHIBwp0"
   },
   "source": [
    "### 3.2 Задача\n",
    "Скільки існує 6-цифрових чисел, в яких дві однакові цифри не стоять поряд?\n",
    "\n",
    "**Зауваження 1.** В задачі фігурують 6-цифрові числа, тобто перша цифра не може дорівнювати $0$.\n",
    "\n",
    "**Зауваження 2.** Задача передбачає використання функції\n",
    "[product](https://docs.python.org/3/library/itertools.html#itertools.product)."
   ]
  },
  {
   "cell_type": "code",
   "execution_count": 7,
   "metadata": {
    "id": "6q_eBsrnBwp0"
   },
   "outputs": [
    {
     "name": "stdout",
     "output_type": "stream",
     "text": [
      "Amount of 6-number sets: 531441\n"
     ]
    }
   ],
   "source": [
    "from itertools import product\n",
    "    \n",
    "    \n",
    "def check(x):\n",
    "    if x[0] == 0:  # Number can't start with 0\n",
    "        return False\n",
    "    for i in range(len(x)-1):\n",
    "        if x[i] == x[i+1]:\n",
    "            return False\n",
    "    return True\n",
    "    \n",
    "    \n",
    "A = list(range(10))\n",
    "sets = product(A, repeat=6)\n",
    "counter = 0\n",
    "for element in sets:\n",
    "    if check(element):\n",
    "        counter += 1\n",
    "print(\"Amount of 6-number sets: {}\".format(counter))\n",
    "\n"
   ]
  }
 ],
 "metadata": {
  "colab": {
   "collapsed_sections": [],
   "name": "Домашня робота 1.ipynb",
   "provenance": [
    {
     "file_id": "1Tm5IZVIguBgi4zrbh16WwSHcfU44TMIA",
     "timestamp": 1613549316928
    }
   ]
  },
  "kernelspec": {
   "display_name": "Python 3",
   "language": "python",
   "name": "python3"
  },
  "language_info": {
   "codemirror_mode": {
    "name": "ipython",
    "version": 3
   },
   "file_extension": ".py",
   "mimetype": "text/x-python",
   "name": "python",
   "nbconvert_exporter": "python",
   "pygments_lexer": "ipython3",
   "version": "3.8.5"
  }
 },
 "nbformat": 4,
 "nbformat_minor": 1
}
